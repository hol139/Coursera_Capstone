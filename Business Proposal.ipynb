{
    "cells": [
        {
            "cell_type": "markdown",
            "metadata": {
                "collapsed": true
            },
            "source": "# The Battle of the Neighbourhoods - Business Proposal"
        },
        {
            "cell_type": "markdown",
            "metadata": {},
            "source": "### Introduction"
        },
        {
            "cell_type": "markdown",
            "metadata": {},
            "source": "New York is known as a \u201cmelting pot\u201d of cultures and communities due to it being a key port for immigration. This has led to New York being the most linguistically diverse cities with as many as 800 languages spoken throughout.\n\nThis analysis will focus on the most populous county in New York State, Brooklyn. With around 2.5million residents, the borough maintains a distinct culture with many neighbourhoods being ethnic enclaves. Brooklyn has dozens of neighbourhoods that represent many of the major culturally identified groups of New York City and such a diverse culture brings a huge variety in restaurant cuisines, from Mexican food trucks, to your Italian family-owned restaurants. So one thing is very important in opening a new restaurant in Brooklyn\u2026location, location, location! \n\nThis project aims to analyse current Mexican restaurants in Brooklyn to determine which is the best neighbourhood for the client - an individual who has just moved to Brooklyn and is trying to open their first restaurant in New York. "
        },
        {
            "cell_type": "markdown",
            "metadata": {},
            "source": "### The Problem"
        },
        {
            "cell_type": "markdown",
            "metadata": {},
            "source": "I will attempt to find answers to the following questions by firstly listing and visualising neighbourhoods of Brooklyn that have excellent Mexican restaurants.\n1. What is the best location for a new Mexican restaurant?\n2. Which areas lack Mexican restaurants?\n3. What is the best area to live/stay in if you want to be local to Mexican restaurants? \n"
        }
    ],
    "metadata": {
        "kernelspec": {
            "display_name": "Python 3.7",
            "language": "python",
            "name": "python3"
        },
        "language_info": {
            "codemirror_mode": {
                "name": "ipython",
                "version": 3
            },
            "file_extension": ".py",
            "mimetype": "text/x-python",
            "name": "python",
            "nbconvert_exporter": "python",
            "pygments_lexer": "ipython3",
            "version": "3.7.9"
        }
    },
    "nbformat": 4,
    "nbformat_minor": 1
}