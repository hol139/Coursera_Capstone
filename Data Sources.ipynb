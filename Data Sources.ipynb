{
    "cells": [
        {
            "cell_type": "markdown",
            "metadata": {
                "collapsed": true
            },
            "source": "# The Battle of the Neighbourhoods - Data Sources"
        },
        {
            "cell_type": "markdown",
            "metadata": {},
            "source": "### Data sources"
        },
        {
            "cell_type": "markdown",
            "metadata": {},
            "source": "With Brooklyn\u2019s ever growing population and diversity in cultures there is significant variety in cuisines and restaurants. For this project I will use the following data sources:\n1. New York City data containing Boroughs and Neighbourhoods as well as latitude and longitude.  \n    Data source: https://cocl.us/new_york_dataset  \n    This dataset contains the information detailed above and will be used as the starting point to exploring Brooklyn. \n      \n2. Mexican restaurants for Brooklyn by neighbourhood  \n    Data source: Foursquare API  \n    This will provide information about all venues including name, location, menu, and photos. This will be the main data source as the information on Mexican restaurants will be available from this.   \n"
        }
    ],
    "metadata": {
        "kernelspec": {
            "display_name": "Python 3.7",
            "language": "python",
            "name": "python3"
        },
        "language_info": {
            "codemirror_mode": {
                "name": "ipython",
                "version": 3
            },
            "file_extension": ".py",
            "mimetype": "text/x-python",
            "name": "python",
            "nbconvert_exporter": "python",
            "pygments_lexer": "ipython3",
            "version": "3.7.9"
        }
    },
    "nbformat": 4,
    "nbformat_minor": 1
}